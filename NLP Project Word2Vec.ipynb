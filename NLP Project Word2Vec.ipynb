{
 "cells": [
  {
   "cell_type": "code",
   "execution_count": 4,
   "id": "3d990158-f6fc-427d-a657-9e2558b59e52",
   "metadata": {},
   "outputs": [],
   "source": [
    "import numpy as np\n",
    "import pandas as pd\n",
    "import re\n",
    "\n",
    "from IPython.display import clear_output\n",
    "\n",
    "#!pip install \"gensim\"\n",
    "from gensim.models import Word2Vec   # Word2Vec model"
   ]
  },
  {
   "cell_type": "code",
   "execution_count": 12,
   "id": "8f31c120-b20a-4b07-9ab1-160903a30105",
   "metadata": {},
   "outputs": [
    {
     "data": {
      "text/html": [
       "<div>\n",
       "<style scoped>\n",
       "    .dataframe tbody tr th:only-of-type {\n",
       "        vertical-align: middle;\n",
       "    }\n",
       "\n",
       "    .dataframe tbody tr th {\n",
       "        vertical-align: top;\n",
       "    }\n",
       "\n",
       "    .dataframe thead th {\n",
       "        text-align: right;\n",
       "    }\n",
       "</style>\n",
       "<table border=\"1\" class=\"dataframe\">\n",
       "  <thead>\n",
       "    <tr style=\"text-align: right;\">\n",
       "      <th></th>\n",
       "      <th>Unnamed: 0</th>\n",
       "      <th>id</th>\n",
       "      <th>title</th>\n",
       "      <th>author</th>\n",
       "      <th>pub_date</th>\n",
       "      <th>genres</th>\n",
       "      <th>summary</th>\n",
       "      <th>link</th>\n",
       "      <th>is_novel</th>\n",
       "      <th>sum_len</th>\n",
       "      <th>file_name</th>\n",
       "    </tr>\n",
       "  </thead>\n",
       "  <tbody>\n",
       "    <tr>\n",
       "      <th>0</th>\n",
       "      <td>2</td>\n",
       "      <td>6921</td>\n",
       "      <td>Carmilla</td>\n",
       "      <td>Sheridan Le Fanu</td>\n",
       "      <td>1872</td>\n",
       "      <td>fiction</td>\n",
       "      <td>The story is presented by Le Fanu as part of ...</td>\n",
       "      <td>https://www.gutenberg.org/files/10007/10007-0.txt</td>\n",
       "      <td>False</td>\n",
       "      <td>934</td>\n",
       "      <td>10007_10007-0.txt</td>\n",
       "    </tr>\n",
       "    <tr>\n",
       "      <th>1</th>\n",
       "      <td>3</td>\n",
       "      <td>7923</td>\n",
       "      <td>Dracula</td>\n",
       "      <td>Bram Stoker</td>\n",
       "      <td>1897</td>\n",
       "      <td>horror</td>\n",
       "      <td>The novel is told in epistolary format, as a ...</td>\n",
       "      <td>https://www.gutenberg.org/files/345/345-0.txt</td>\n",
       "      <td>True</td>\n",
       "      <td>986</td>\n",
       "      <td>345_345-0.txt</td>\n",
       "    </tr>\n",
       "    <tr>\n",
       "      <th>2</th>\n",
       "      <td>4</td>\n",
       "      <td>7923</td>\n",
       "      <td>Dracula</td>\n",
       "      <td>Bram Stoker</td>\n",
       "      <td>1897</td>\n",
       "      <td>horror</td>\n",
       "      <td>The novel is told in epistolary format, as a ...</td>\n",
       "      <td>https://www.gutenberg.org/files/45839/45839-0.txt</td>\n",
       "      <td>True</td>\n",
       "      <td>986</td>\n",
       "      <td>45839_45839-0.txt</td>\n",
       "    </tr>\n",
       "    <tr>\n",
       "      <th>3</th>\n",
       "      <td>5</td>\n",
       "      <td>8237</td>\n",
       "      <td>Don Quixote</td>\n",
       "      <td>Miguel de Cervantes</td>\n",
       "      <td>1605</td>\n",
       "      <td>novel</td>\n",
       "      <td>The First Sally Alonso Quijano, the protagoni...</td>\n",
       "      <td>https://www.gutenberg.org/files/996/996-0.txt</td>\n",
       "      <td>True</td>\n",
       "      <td>1592</td>\n",
       "      <td>996_996-0.txt</td>\n",
       "    </tr>\n",
       "    <tr>\n",
       "      <th>4</th>\n",
       "      <td>9</td>\n",
       "      <td>13535</td>\n",
       "      <td>Heart of Darkness</td>\n",
       "      <td>Joseph Conrad</td>\n",
       "      <td>1899</td>\n",
       "      <td>novel</td>\n",
       "      <td>'Heart of Darkness' opens in first person nar...</td>\n",
       "      <td>https://www.gutenberg.org/files/219/219-0.txt</td>\n",
       "      <td>True</td>\n",
       "      <td>3127</td>\n",
       "      <td>219_219-0.txt</td>\n",
       "    </tr>\n",
       "  </tbody>\n",
       "</table>\n",
       "</div>"
      ],
      "text/plain": [
       "   Unnamed: 0     id              title               author pub_date  \\\n",
       "0           2   6921           Carmilla     Sheridan Le Fanu     1872   \n",
       "1           3   7923            Dracula          Bram Stoker     1897   \n",
       "2           4   7923            Dracula          Bram Stoker     1897   \n",
       "3           5   8237        Don Quixote  Miguel de Cervantes     1605   \n",
       "4           9  13535  Heart of Darkness        Joseph Conrad     1899   \n",
       "\n",
       "    genres                                            summary  \\\n",
       "0  fiction   The story is presented by Le Fanu as part of ...   \n",
       "1   horror   The novel is told in epistolary format, as a ...   \n",
       "2   horror   The novel is told in epistolary format, as a ...   \n",
       "3    novel   The First Sally Alonso Quijano, the protagoni...   \n",
       "4    novel   'Heart of Darkness' opens in first person nar...   \n",
       "\n",
       "                                                link  is_novel  sum_len  \\\n",
       "0  https://www.gutenberg.org/files/10007/10007-0.txt     False      934   \n",
       "1      https://www.gutenberg.org/files/345/345-0.txt      True      986   \n",
       "2  https://www.gutenberg.org/files/45839/45839-0.txt      True      986   \n",
       "3      https://www.gutenberg.org/files/996/996-0.txt      True     1592   \n",
       "4      https://www.gutenberg.org/files/219/219-0.txt      True     3127   \n",
       "\n",
       "           file_name  \n",
       "0  10007_10007-0.txt  \n",
       "1      345_345-0.txt  \n",
       "2  45839_45839-0.txt  \n",
       "3      996_996-0.txt  \n",
       "4      219_219-0.txt  "
      ]
     },
     "execution_count": 12,
     "metadata": {},
     "output_type": "execute_result"
    }
   ],
   "source": [
    "df = pd.read_csv(\"/home/x-mbemus/Desktop/text_train_data.csv\")   # Open training dataset.\n",
    "df.head()"
   ]
  },
  {
   "cell_type": "code",
   "execution_count": null,
   "id": "c12c32f0-c2af-4b3c-a6b9-bde778d276de",
   "metadata": {},
   "outputs": [],
   "source": [
    "sents = []   # List to hold sentences.\n",
    "for i in df.loc[:][\"file_name\"]:   # For each file.\n",
    "    new_sent = []   # Create new sentence.\n",
    "    try:\n",
    "        # Open file.\n",
    "        f = open(\"/home/x-mbemus/Desktop/text_files/\" + i, \"r\", errors=\"ignore\")\n",
    "        text = ' '.join(f.readlines())   # Read whole file.\n",
    "        # Text preprocessing.\n",
    "        text = re.sub(r\"\\\\n|\\\\t\", \" \", text)   # Remove any new-lines and tabs.\n",
    "        text = re.sub(r\"([^\\w\\s'])\", r\" \\1 \", text)   # Put spaces around most punctuation.\n",
    "        text = re.sub(r\"\\s+\", \" \", text)   # Remove extra spaces.\n",
    "        words = text.split(\" \")   # Separate tokens by space.\n",
    "        for j in words:   # For each token.\n",
    "            new_sent.append(j)   # Add token to sentence.\n",
    "            if j in [\".\", \"!\", \"?\"]:   # If token is punctuation.\n",
    "                sents.append(new_sent)   # Add sentence to sentence list.\n",
    "                new_sent = []   # Create new sentence.\n",
    "        if len(new_sent) > 0:   # If current sentence not empty.\n",
    "            sents.append(new_sent)   # Add to sentence list.\n",
    "        f.close()    # Close file.\n",
    "    except:\n",
    "        pass"
   ]
  },
  {
   "cell_type": "code",
   "execution_count": 43,
   "id": "540784a5-9147-4ac7-add6-09dac5aa3db7",
   "metadata": {},
   "outputs": [],
   "source": [
    "sents_2 = []    # Getting summary sentences.\n",
    "new_sent = []   # Individual sentence holder.\n",
    "for i in df.loc[:][\"summary\"]:   # Iterate through sentences.\n",
    "    # Same preprocessing as before.\n",
    "    text = re.sub(r\"\\\\n|\\\\t\", \" \", i)\n",
    "    text = re.sub(r\"\\\\'\", \" \", text)\n",
    "    text = re.sub(r\"([^\\w\\s'])\", r\" \\1 \", text)\n",
    "    text = re.sub(r\"\\s+\", \" \", text)\n",
    "    words = text.split(\" \")    # Split tokens by space.\n",
    "    for j in words:    # Iterate through tokens.\n",
    "        new_sent.append(j)   # Add word to current sentence.\n",
    "        if j in [\".\", \"!\", \"?\"]:   # If punctuation.\n",
    "            sents_2.append(new_sent)   # Add sentence to sentence list.\n",
    "            new_sent = []   # Create new sentence.\n",
    "    if len(new_sent) > 0:   # If new sentence not empty.\n",
    "        sents_2.append(new_sent)   # Add incomplete sentence to list."
   ]
  },
  {
   "cell_type": "code",
   "execution_count": 44,
   "id": "5d42ee4a-40b1-417d-85d0-7ddc04ceb535",
   "metadata": {},
   "outputs": [
    {
     "name": "stdout",
     "output_type": "stream",
     "text": [
      "2922600\n"
     ]
    }
   ],
   "source": [
    "all_sents = sents + sents_2   # Combine all sentences.\n",
    "print(len(all_sents))   # Check count of sentences."
   ]
  },
  {
   "cell_type": "code",
   "execution_count": 45,
   "id": "26f20838-7203-48fa-84ab-6e7ba2ce2f25",
   "metadata": {},
   "outputs": [],
   "source": [
    "# Train 50-vec from sentences.\n",
    "model = Word2Vec(sentences=all_sents, vector_size=50, window=5, min_count=1, workers=4)"
   ]
  },
  {
   "cell_type": "code",
   "execution_count": 48,
   "id": "3177d31d-c9a4-4ffa-8c7f-5ae4444c2595",
   "metadata": {},
   "outputs": [
    {
     "data": {
      "text/plain": [
       "array([-0.38713482,  0.35845155, -0.4892324 ,  0.10323673,  0.21779941,\n",
       "        0.18955876,  0.6996074 ,  0.22049618, -0.26312035,  0.28026226,\n",
       "        0.41193014, -0.18090388, -0.24702743,  0.483984  ,  0.01322602,\n",
       "        0.23626558,  0.3272087 , -0.00264295, -0.24421367, -0.5000111 ,\n",
       "        0.2437251 ,  0.67580444, -0.16511494,  0.21222222,  0.33947915,\n",
       "        0.04529685, -0.01860966,  0.05741313, -0.47610345,  0.07334362,\n",
       "        0.04463233, -0.32907084, -0.11431769, -0.44045985, -0.22120006,\n",
       "        0.1330758 ,  0.21142244,  0.14917983,  0.34179702,  0.4040718 ,\n",
       "        0.17557351, -0.05840934, -0.0798966 ,  0.17631772,  0.3998845 ,\n",
       "       -0.08932945,  0.17433514,  0.02371125, -0.05882114,  0.4896915 ],\n",
       "      dtype=float32)"
      ]
     },
     "execution_count": 48,
     "metadata": {},
     "output_type": "execute_result"
    }
   ],
   "source": [
    "model.wv['Dracula']   # Test observation."
   ]
  },
  {
   "cell_type": "code",
   "execution_count": 47,
   "id": "6252a59d-c10c-4876-aa67-71a23b656c5a",
   "metadata": {},
   "outputs": [],
   "source": [
    "model.save(\"train-text-50.vecs\")   # Save model."
   ]
  },
  {
   "cell_type": "code",
   "execution_count": null,
   "id": "337adec2-69d3-43ce-b571-63b6e7c854cd",
   "metadata": {},
   "outputs": [],
   "source": []
  }
 ],
 "metadata": {
  "kernelspec": {
   "display_name": "Python 3.8 (Anaconda 2021.05)",
   "language": "python",
   "name": "anaconda-2021.05-py38"
  },
  "language_info": {
   "codemirror_mode": {
    "name": "ipython",
    "version": 3
   },
   "file_extension": ".py",
   "mimetype": "text/x-python",
   "name": "python",
   "nbconvert_exporter": "python",
   "pygments_lexer": "ipython3",
   "version": "3.8.8"
  }
 },
 "nbformat": 4,
 "nbformat_minor": 5
}
